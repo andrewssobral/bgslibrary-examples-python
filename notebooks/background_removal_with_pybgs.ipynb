{
  "nbformat": 4,
  "nbformat_minor": 0,
  "metadata": {
    "colab": {
      "provenance": []
    },
    "kernelspec": {
      "name": "python3",
      "display_name": "Python 3"
    },
    "language_info": {
      "name": "python"
    }
  },
  "cells": [
    {
      "cell_type": "markdown",
      "source": [
        "**Install pybgs**"
      ],
      "metadata": {
        "id": "ymPQyqEk4_mw"
      }
    },
    {
      "cell_type": "code",
      "source": [
        "! pip install pybgs"
      ],
      "metadata": {
        "colab": {
          "base_uri": "https://localhost:8080/"
        },
        "id": "7Vln5Rv15EBO",
        "outputId": "c3cb8c82-1f0e-48a2-bb17-33646cc6aeb9"
      },
      "execution_count": null,
      "outputs": [
        {
          "output_type": "stream",
          "name": "stdout",
          "text": [
            "Requirement already satisfied: pybgs in /usr/local/lib/python3.10/dist-packages (3.3.0.post2)\n",
            "\u001b[33mWARNING: Running pip as the 'root' user can result in broken permissions and conflicting behaviour with the system package manager. It is recommended to use a virtual environment instead: https://pip.pypa.io/warnings/venv\u001b[0m\u001b[33m\n",
            "\u001b[0m"
          ]
        }
      ]
    },
    {
      "cell_type": "code",
      "source": [
        "import pybgs\n",
        "print(pybgs.__version__)"
      ],
      "metadata": {
        "colab": {
          "base_uri": "https://localhost:8080/"
        },
        "id": "Jx3Ch5DN55MH",
        "outputId": "6c9ca52b-a161-4dff-cf09-7cec8de05887"
      },
      "execution_count": null,
      "outputs": [
        {
          "output_type": "stream",
          "name": "stdout",
          "text": [
            "3.3.0\n"
          ]
        }
      ]
    },
    {
      "cell_type": "markdown",
      "source": [],
      "metadata": {
        "id": "bykLevG-du7j"
      }
    },
    {
      "cell_type": "code",
      "source": [
        "! git clone https://github.com/andrewssobral/bgslibrary-examples-python.git"
      ],
      "metadata": {
        "id": "7qyVNWJk5-do",
        "colab": {
          "base_uri": "https://localhost:8080/"
        },
        "outputId": "cbeec607-891c-4ea0-9727-62a6513b406a"
      },
      "execution_count": null,
      "outputs": [
        {
          "output_type": "stream",
          "name": "stdout",
          "text": [
            "fatal: destination path 'bgslibrary-examples-python' already exists and is not an empty directory.\n"
          ]
        }
      ]
    },
    {
      "cell_type": "code",
      "source": [
        "! cd bgslibrary-examples-python && python demo_list_algs.py"
      ],
      "metadata": {
        "colab": {
          "base_uri": "https://localhost:8080/"
        },
        "id": "CQcGECeBdsqh",
        "outputId": "572d3570-2f07-486c-b96c-172051cad2e5"
      },
      "execution_count": null,
      "outputs": [
        {
          "output_type": "stream",
          "name": "stdout",
          "text": [
            "OpenCV Version: 4.8.0\n",
            "+FrameDifference()\n",
            "+StaticFrameDifference()\n",
            "+WeightedMovingMean()\n",
            "+WeightedMovingVariance()\n",
            "+AdaptiveBackgroundLearning()\n",
            "+AdaptiveSelectiveBackgroundLearning()\n",
            "+MixtureOfGaussianV2()\n",
            "+PixelBasedAdaptiveSegmenter()\n",
            "+SigmaDelta()\n",
            "+SuBSENSE()\n",
            "+LOBSTER()\n",
            "+PAWCS()\n",
            "+TwoPoints()\n",
            "+ViBe()\n",
            "+CodeBook()\n",
            "+FuzzySugenoIntegral()\n",
            "+FuzzyChoquetIntegral()\n",
            "+LBSimpleGaussian()\n",
            "+LBFuzzyGaussian()\n",
            "+LBMixtureOfGaussians()\n",
            "+LBAdaptiveSOM()\n",
            "+LBFuzzyAdaptiveSOM()\n",
            "TBackground()\n",
            "TBackgroundVuMeter()\n",
            "+VuMeter()\n",
            "+KDE()\n",
            "+IndependentMultimodal()\n",
            "+KNN()\n",
            "Number of available algorithms:  26\n",
            "1: FrameDifference\n",
            "2: StaticFrameDifference\n",
            "3: WeightedMovingMean\n",
            "4: WeightedMovingVariance\n",
            "5: AdaptiveBackgroundLearning\n",
            "6: AdaptiveSelectiveBackgroundLearning\n",
            "7: MixtureOfGaussianV2\n",
            "8: PixelBasedAdaptiveSegmenter\n",
            "9: SigmaDelta\n",
            "10: SuBSENSE\n",
            "11: LOBSTER\n",
            "12: PAWCS\n",
            "13: TwoPoints\n",
            "14: ViBe\n",
            "15: CodeBook\n",
            "16: FuzzySugenoIntegral\n",
            "17: FuzzyChoquetIntegral\n",
            "18: LBSimpleGaussian\n",
            "19: LBFuzzyGaussian\n",
            "20: LBMixtureOfGaussians\n",
            "21: LBAdaptiveSOM\n",
            "22: LBFuzzyAdaptiveSOM\n",
            "23: VuMeter\n",
            "24: KDE\n",
            "25: IndependentMultimodal\n",
            "26: KNN\n",
            "-IndependentMultimodal()\n",
            "-KDE()\n",
            "munmap_chunk(): invalid pointer\n"
          ]
        }
      ]
    }
  ]
}